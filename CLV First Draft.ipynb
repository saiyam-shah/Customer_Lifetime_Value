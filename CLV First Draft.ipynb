{
 "cells": [
  {
   "cell_type": "code",
   "execution_count": 1,
   "id": "2441f8a0",
   "metadata": {},
   "outputs": [],
   "source": [
    "import pandas as pd\n",
    "import numpy as np\n",
    "\n",
    "from datetime import datetime, timedelta,date\n",
    "%matplotlib inline\n",
    "from sklearn.metrics import classification_report,confusion_matrix\n",
    "import matplotlib.pyplot as plt\n",
    "import seaborn as sns\n",
    "from sklearn.cluster import KMeans\n",
    "\n",
    "\n",
    "import plotly as py\n",
    "import plotly.offline as pyoff\n",
    "import plotly.graph_objs as go\n",
    "\n",
    "\n",
    "import xgboost as xgb\n",
    "from sklearn.model_selection import KFold, cross_val_score, train_test_split\n",
    "\n",
    "import xgboost as xgb"
   ]
  },
  {
   "cell_type": "code",
   "execution_count": 2,
   "id": "f3fa9a63",
   "metadata": {},
   "outputs": [],
   "source": [
    "import plotly.express as px\n"
   ]
  },
  {
   "cell_type": "code",
   "execution_count": 4,
   "id": "1ca4438c",
   "metadata": {},
   "outputs": [],
   "source": [
    "df1=pd.read_csv('Year 2009-2010.csv',encoding='cp1252')\n",
    "df2=pd.read_csv('Year 2010-2011.csv',encoding='cp1252')"
   ]
  },
  {
   "cell_type": "code",
   "execution_count": 11,
   "id": "2817d973",
   "metadata": {},
   "outputs": [],
   "source": [
    "# pyoff.init_notebook_mode()\n",
    "# df=df1.append(df2)\n",
    "# df.head()\n",
    "df=pd.concat([df1, df2], axis=0, ignore_index=True)\n"
   ]
  },
  {
   "cell_type": "code",
   "execution_count": 12,
   "id": "379a3f56",
   "metadata": {},
   "outputs": [
    {
     "data": {
      "text/plain": [
       "(1067371, 8)"
      ]
     },
     "execution_count": 12,
     "metadata": {},
     "output_type": "execute_result"
    }
   ],
   "source": [
    "df.shape"
   ]
  },
  {
   "cell_type": "code",
   "execution_count": 13,
   "id": "12264179",
   "metadata": {},
   "outputs": [
    {
     "name": "stdout",
     "output_type": "stream",
     "text": [
      "(525461, 8)\n",
      "(541910, 8)\n"
     ]
    }
   ],
   "source": [
    "print(df1.shape)\n",
    "print(df2.shape)"
   ]
  },
  {
   "cell_type": "code",
   "execution_count": 14,
   "id": "8a6710dd",
   "metadata": {},
   "outputs": [
    {
     "data": {
      "text/plain": [
       "Invoice             0\n",
       "StockCode           0\n",
       "Description      4382\n",
       "Quantity            0\n",
       "InvoiceDate         0\n",
       "Price               0\n",
       "Customer ID    243007\n",
       "Country             0\n",
       "dtype: int64"
      ]
     },
     "execution_count": 14,
     "metadata": {},
     "output_type": "execute_result"
    }
   ],
   "source": [
    "df.isna().sum()"
   ]
  },
  {
   "cell_type": "code",
   "execution_count": 15,
   "id": "e8aaddbb",
   "metadata": {},
   "outputs": [],
   "source": [
    "df.dropna(axis=0,inplace=True)"
   ]
  },
  {
   "cell_type": "code",
   "execution_count": 16,
   "id": "d12cdfc6",
   "metadata": {
    "scrolled": true
   },
   "outputs": [],
   "source": [
    "x=df['Country'].value_counts().reset_index()"
   ]
  },
  {
   "cell_type": "code",
   "execution_count": 17,
   "id": "d242b748",
   "metadata": {},
   "outputs": [
    {
     "data": {
      "application/vnd.plotly.v1+json": {
       "config": {
        "plotlyServerURL": "https://plot.ly"
       },
       "data": [
        {
         "hovertemplate": "index=%{marker.color}<br>Country=%{y}<extra></extra>",
         "legendgroup": "",
         "marker": {
          "color": [
           0,
           1,
           2,
           3,
           4,
           5,
           6,
           7,
           8,
           9,
           10,
           11,
           12,
           13,
           14,
           15,
           16,
           17,
           18,
           19,
           20,
           21,
           22,
           23,
           24,
           25,
           26,
           27,
           28,
           29,
           30,
           31,
           32,
           33,
           34,
           35,
           36,
           37,
           38,
           39,
           40
          ],
          "coloraxis": "coloraxis",
          "symbol": "circle"
         },
         "mode": "markers",
         "name": "",
         "orientation": "v",
         "showlegend": false,
         "type": "scatter",
         "x": [
          0,
          1,
          2,
          3,
          4,
          5,
          6,
          7,
          8,
          9,
          10,
          11,
          12,
          13,
          14,
          15,
          16,
          17,
          18,
          19,
          20,
          21,
          22,
          23,
          24,
          25,
          26,
          27,
          28,
          29,
          30,
          31,
          32,
          33,
          34,
          35,
          36,
          37,
          38,
          39,
          40
         ],
         "xaxis": "x",
         "y": [
          "United Kingdom",
          "Germany",
          "EIRE",
          "France",
          "Netherlands",
          "Spain",
          "Belgium",
          "Switzerland",
          "Portugal",
          "Australia",
          "Channel Islands",
          "Italy",
          "Norway",
          "Sweden",
          "Cyprus",
          "Finland",
          "Austria",
          "Denmark",
          "Greece",
          "Japan",
          "USA",
          "Poland",
          "Unspecified",
          "United Arab Emirates",
          "Singapore",
          "Israel",
          "Malta",
          "Iceland",
          "Canada",
          "Lithuania",
          "RSA",
          "Brazil",
          "Thailand",
          "Korea",
          "European Community",
          "Bahrain",
          "West Indies",
          "Lebanon",
          "Czech Republic",
          "Nigeria",
          "Saudi Arabia"
         ],
         "yaxis": "y"
        }
       ],
       "layout": {
        "coloraxis": {
         "colorbar": {
          "title": {
           "text": "index"
          }
         },
         "colorscale": [
          [
           0,
           "#0d0887"
          ],
          [
           0.1111111111111111,
           "#46039f"
          ],
          [
           0.2222222222222222,
           "#7201a8"
          ],
          [
           0.3333333333333333,
           "#9c179e"
          ],
          [
           0.4444444444444444,
           "#bd3786"
          ],
          [
           0.5555555555555556,
           "#d8576b"
          ],
          [
           0.6666666666666666,
           "#ed7953"
          ],
          [
           0.7777777777777778,
           "#fb9f3a"
          ],
          [
           0.8888888888888888,
           "#fdca26"
          ],
          [
           1,
           "#f0f921"
          ]
         ]
        },
        "legend": {
         "tracegroupgap": 0
        },
        "margin": {
         "t": 60
        },
        "template": {
         "data": {
          "bar": [
           {
            "error_x": {
             "color": "#2a3f5f"
            },
            "error_y": {
             "color": "#2a3f5f"
            },
            "marker": {
             "line": {
              "color": "#E5ECF6",
              "width": 0.5
             },
             "pattern": {
              "fillmode": "overlay",
              "size": 10,
              "solidity": 0.2
             }
            },
            "type": "bar"
           }
          ],
          "barpolar": [
           {
            "marker": {
             "line": {
              "color": "#E5ECF6",
              "width": 0.5
             },
             "pattern": {
              "fillmode": "overlay",
              "size": 10,
              "solidity": 0.2
             }
            },
            "type": "barpolar"
           }
          ],
          "carpet": [
           {
            "aaxis": {
             "endlinecolor": "#2a3f5f",
             "gridcolor": "white",
             "linecolor": "white",
             "minorgridcolor": "white",
             "startlinecolor": "#2a3f5f"
            },
            "baxis": {
             "endlinecolor": "#2a3f5f",
             "gridcolor": "white",
             "linecolor": "white",
             "minorgridcolor": "white",
             "startlinecolor": "#2a3f5f"
            },
            "type": "carpet"
           }
          ],
          "choropleth": [
           {
            "colorbar": {
             "outlinewidth": 0,
             "ticks": ""
            },
            "type": "choropleth"
           }
          ],
          "contour": [
           {
            "colorbar": {
             "outlinewidth": 0,
             "ticks": ""
            },
            "colorscale": [
             [
              0,
              "#0d0887"
             ],
             [
              0.1111111111111111,
              "#46039f"
             ],
             [
              0.2222222222222222,
              "#7201a8"
             ],
             [
              0.3333333333333333,
              "#9c179e"
             ],
             [
              0.4444444444444444,
              "#bd3786"
             ],
             [
              0.5555555555555556,
              "#d8576b"
             ],
             [
              0.6666666666666666,
              "#ed7953"
             ],
             [
              0.7777777777777778,
              "#fb9f3a"
             ],
             [
              0.8888888888888888,
              "#fdca26"
             ],
             [
              1,
              "#f0f921"
             ]
            ],
            "type": "contour"
           }
          ],
          "contourcarpet": [
           {
            "colorbar": {
             "outlinewidth": 0,
             "ticks": ""
            },
            "type": "contourcarpet"
           }
          ],
          "heatmap": [
           {
            "colorbar": {
             "outlinewidth": 0,
             "ticks": ""
            },
            "colorscale": [
             [
              0,
              "#0d0887"
             ],
             [
              0.1111111111111111,
              "#46039f"
             ],
             [
              0.2222222222222222,
              "#7201a8"
             ],
             [
              0.3333333333333333,
              "#9c179e"
             ],
             [
              0.4444444444444444,
              "#bd3786"
             ],
             [
              0.5555555555555556,
              "#d8576b"
             ],
             [
              0.6666666666666666,
              "#ed7953"
             ],
             [
              0.7777777777777778,
              "#fb9f3a"
             ],
             [
              0.8888888888888888,
              "#fdca26"
             ],
             [
              1,
              "#f0f921"
             ]
            ],
            "type": "heatmap"
           }
          ],
          "heatmapgl": [
           {
            "colorbar": {
             "outlinewidth": 0,
             "ticks": ""
            },
            "colorscale": [
             [
              0,
              "#0d0887"
             ],
             [
              0.1111111111111111,
              "#46039f"
             ],
             [
              0.2222222222222222,
              "#7201a8"
             ],
             [
              0.3333333333333333,
              "#9c179e"
             ],
             [
              0.4444444444444444,
              "#bd3786"
             ],
             [
              0.5555555555555556,
              "#d8576b"
             ],
             [
              0.6666666666666666,
              "#ed7953"
             ],
             [
              0.7777777777777778,
              "#fb9f3a"
             ],
             [
              0.8888888888888888,
              "#fdca26"
             ],
             [
              1,
              "#f0f921"
             ]
            ],
            "type": "heatmapgl"
           }
          ],
          "histogram": [
           {
            "marker": {
             "pattern": {
              "fillmode": "overlay",
              "size": 10,
              "solidity": 0.2
             }
            },
            "type": "histogram"
           }
          ],
          "histogram2d": [
           {
            "colorbar": {
             "outlinewidth": 0,
             "ticks": ""
            },
            "colorscale": [
             [
              0,
              "#0d0887"
             ],
             [
              0.1111111111111111,
              "#46039f"
             ],
             [
              0.2222222222222222,
              "#7201a8"
             ],
             [
              0.3333333333333333,
              "#9c179e"
             ],
             [
              0.4444444444444444,
              "#bd3786"
             ],
             [
              0.5555555555555556,
              "#d8576b"
             ],
             [
              0.6666666666666666,
              "#ed7953"
             ],
             [
              0.7777777777777778,
              "#fb9f3a"
             ],
             [
              0.8888888888888888,
              "#fdca26"
             ],
             [
              1,
              "#f0f921"
             ]
            ],
            "type": "histogram2d"
           }
          ],
          "histogram2dcontour": [
           {
            "colorbar": {
             "outlinewidth": 0,
             "ticks": ""
            },
            "colorscale": [
             [
              0,
              "#0d0887"
             ],
             [
              0.1111111111111111,
              "#46039f"
             ],
             [
              0.2222222222222222,
              "#7201a8"
             ],
             [
              0.3333333333333333,
              "#9c179e"
             ],
             [
              0.4444444444444444,
              "#bd3786"
             ],
             [
              0.5555555555555556,
              "#d8576b"
             ],
             [
              0.6666666666666666,
              "#ed7953"
             ],
             [
              0.7777777777777778,
              "#fb9f3a"
             ],
             [
              0.8888888888888888,
              "#fdca26"
             ],
             [
              1,
              "#f0f921"
             ]
            ],
            "type": "histogram2dcontour"
           }
          ],
          "mesh3d": [
           {
            "colorbar": {
             "outlinewidth": 0,
             "ticks": ""
            },
            "type": "mesh3d"
           }
          ],
          "parcoords": [
           {
            "line": {
             "colorbar": {
              "outlinewidth": 0,
              "ticks": ""
             }
            },
            "type": "parcoords"
           }
          ],
          "pie": [
           {
            "automargin": true,
            "type": "pie"
           }
          ],
          "scatter": [
           {
            "fillpattern": {
             "fillmode": "overlay",
             "size": 10,
             "solidity": 0.2
            },
            "type": "scatter"
           }
          ],
          "scatter3d": [
           {
            "line": {
             "colorbar": {
              "outlinewidth": 0,
              "ticks": ""
             }
            },
            "marker": {
             "colorbar": {
              "outlinewidth": 0,
              "ticks": ""
             }
            },
            "type": "scatter3d"
           }
          ],
          "scattercarpet": [
           {
            "marker": {
             "colorbar": {
              "outlinewidth": 0,
              "ticks": ""
             }
            },
            "type": "scattercarpet"
           }
          ],
          "scattergeo": [
           {
            "marker": {
             "colorbar": {
              "outlinewidth": 0,
              "ticks": ""
             }
            },
            "type": "scattergeo"
           }
          ],
          "scattergl": [
           {
            "marker": {
             "colorbar": {
              "outlinewidth": 0,
              "ticks": ""
             }
            },
            "type": "scattergl"
           }
          ],
          "scattermapbox": [
           {
            "marker": {
             "colorbar": {
              "outlinewidth": 0,
              "ticks": ""
             }
            },
            "type": "scattermapbox"
           }
          ],
          "scatterpolar": [
           {
            "marker": {
             "colorbar": {
              "outlinewidth": 0,
              "ticks": ""
             }
            },
            "type": "scatterpolar"
           }
          ],
          "scatterpolargl": [
           {
            "marker": {
             "colorbar": {
              "outlinewidth": 0,
              "ticks": ""
             }
            },
            "type": "scatterpolargl"
           }
          ],
          "scatterternary": [
           {
            "marker": {
             "colorbar": {
              "outlinewidth": 0,
              "ticks": ""
             }
            },
            "type": "scatterternary"
           }
          ],
          "surface": [
           {
            "colorbar": {
             "outlinewidth": 0,
             "ticks": ""
            },
            "colorscale": [
             [
              0,
              "#0d0887"
             ],
             [
              0.1111111111111111,
              "#46039f"
             ],
             [
              0.2222222222222222,
              "#7201a8"
             ],
             [
              0.3333333333333333,
              "#9c179e"
             ],
             [
              0.4444444444444444,
              "#bd3786"
             ],
             [
              0.5555555555555556,
              "#d8576b"
             ],
             [
              0.6666666666666666,
              "#ed7953"
             ],
             [
              0.7777777777777778,
              "#fb9f3a"
             ],
             [
              0.8888888888888888,
              "#fdca26"
             ],
             [
              1,
              "#f0f921"
             ]
            ],
            "type": "surface"
           }
          ],
          "table": [
           {
            "cells": {
             "fill": {
              "color": "#EBF0F8"
             },
             "line": {
              "color": "white"
             }
            },
            "header": {
             "fill": {
              "color": "#C8D4E3"
             },
             "line": {
              "color": "white"
             }
            },
            "type": "table"
           }
          ]
         },
         "layout": {
          "annotationdefaults": {
           "arrowcolor": "#2a3f5f",
           "arrowhead": 0,
           "arrowwidth": 1
          },
          "autotypenumbers": "strict",
          "coloraxis": {
           "colorbar": {
            "outlinewidth": 0,
            "ticks": ""
           }
          },
          "colorscale": {
           "diverging": [
            [
             0,
             "#8e0152"
            ],
            [
             0.1,
             "#c51b7d"
            ],
            [
             0.2,
             "#de77ae"
            ],
            [
             0.3,
             "#f1b6da"
            ],
            [
             0.4,
             "#fde0ef"
            ],
            [
             0.5,
             "#f7f7f7"
            ],
            [
             0.6,
             "#e6f5d0"
            ],
            [
             0.7,
             "#b8e186"
            ],
            [
             0.8,
             "#7fbc41"
            ],
            [
             0.9,
             "#4d9221"
            ],
            [
             1,
             "#276419"
            ]
           ],
           "sequential": [
            [
             0,
             "#0d0887"
            ],
            [
             0.1111111111111111,
             "#46039f"
            ],
            [
             0.2222222222222222,
             "#7201a8"
            ],
            [
             0.3333333333333333,
             "#9c179e"
            ],
            [
             0.4444444444444444,
             "#bd3786"
            ],
            [
             0.5555555555555556,
             "#d8576b"
            ],
            [
             0.6666666666666666,
             "#ed7953"
            ],
            [
             0.7777777777777778,
             "#fb9f3a"
            ],
            [
             0.8888888888888888,
             "#fdca26"
            ],
            [
             1,
             "#f0f921"
            ]
           ],
           "sequentialminus": [
            [
             0,
             "#0d0887"
            ],
            [
             0.1111111111111111,
             "#46039f"
            ],
            [
             0.2222222222222222,
             "#7201a8"
            ],
            [
             0.3333333333333333,
             "#9c179e"
            ],
            [
             0.4444444444444444,
             "#bd3786"
            ],
            [
             0.5555555555555556,
             "#d8576b"
            ],
            [
             0.6666666666666666,
             "#ed7953"
            ],
            [
             0.7777777777777778,
             "#fb9f3a"
            ],
            [
             0.8888888888888888,
             "#fdca26"
            ],
            [
             1,
             "#f0f921"
            ]
           ]
          },
          "colorway": [
           "#636efa",
           "#EF553B",
           "#00cc96",
           "#ab63fa",
           "#FFA15A",
           "#19d3f3",
           "#FF6692",
           "#B6E880",
           "#FF97FF",
           "#FECB52"
          ],
          "font": {
           "color": "#2a3f5f"
          },
          "geo": {
           "bgcolor": "white",
           "lakecolor": "white",
           "landcolor": "#E5ECF6",
           "showlakes": true,
           "showland": true,
           "subunitcolor": "white"
          },
          "hoverlabel": {
           "align": "left"
          },
          "hovermode": "closest",
          "mapbox": {
           "style": "light"
          },
          "paper_bgcolor": "white",
          "plot_bgcolor": "#E5ECF6",
          "polar": {
           "angularaxis": {
            "gridcolor": "white",
            "linecolor": "white",
            "ticks": ""
           },
           "bgcolor": "#E5ECF6",
           "radialaxis": {
            "gridcolor": "white",
            "linecolor": "white",
            "ticks": ""
           }
          },
          "scene": {
           "xaxis": {
            "backgroundcolor": "#E5ECF6",
            "gridcolor": "white",
            "gridwidth": 2,
            "linecolor": "white",
            "showbackground": true,
            "ticks": "",
            "zerolinecolor": "white"
           },
           "yaxis": {
            "backgroundcolor": "#E5ECF6",
            "gridcolor": "white",
            "gridwidth": 2,
            "linecolor": "white",
            "showbackground": true,
            "ticks": "",
            "zerolinecolor": "white"
           },
           "zaxis": {
            "backgroundcolor": "#E5ECF6",
            "gridcolor": "white",
            "gridwidth": 2,
            "linecolor": "white",
            "showbackground": true,
            "ticks": "",
            "zerolinecolor": "white"
           }
          },
          "shapedefaults": {
           "line": {
            "color": "#2a3f5f"
           }
          },
          "ternary": {
           "aaxis": {
            "gridcolor": "white",
            "linecolor": "white",
            "ticks": ""
           },
           "baxis": {
            "gridcolor": "white",
            "linecolor": "white",
            "ticks": ""
           },
           "bgcolor": "#E5ECF6",
           "caxis": {
            "gridcolor": "white",
            "linecolor": "white",
            "ticks": ""
           }
          },
          "title": {
           "x": 0.05
          },
          "xaxis": {
           "automargin": true,
           "gridcolor": "white",
           "linecolor": "white",
           "ticks": "",
           "title": {
            "standoff": 15
           },
           "zerolinecolor": "white",
           "zerolinewidth": 2
          },
          "yaxis": {
           "automargin": true,
           "gridcolor": "white",
           "linecolor": "white",
           "ticks": "",
           "title": {
            "standoff": 15
           },
           "zerolinecolor": "white",
           "zerolinewidth": 2
          }
         }
        },
        "xaxis": {
         "anchor": "y",
         "domain": [
          0,
          1
         ],
         "title": {
          "text": "index"
         }
        },
        "yaxis": {
         "anchor": "x",
         "domain": [
          0,
          1
         ],
         "title": {
          "text": "Country"
         }
        }
       }
      },
      "text/html": [
       "<div>                            <div id=\"423b8a1f-cfa8-41fd-87de-752838ee5500\" class=\"plotly-graph-div\" style=\"height:525px; width:100%;\"></div>            <script type=\"text/javascript\">                require([\"plotly\"], function(Plotly) {                    window.PLOTLYENV=window.PLOTLYENV || {};                                    if (document.getElementById(\"423b8a1f-cfa8-41fd-87de-752838ee5500\")) {                    Plotly.newPlot(                        \"423b8a1f-cfa8-41fd-87de-752838ee5500\",                        [{\"hovertemplate\":\"index=%{marker.color}\\u003cbr\\u003eCountry=%{y}\\u003cextra\\u003e\\u003c\\u002fextra\\u003e\",\"legendgroup\":\"\",\"marker\":{\"color\":[0,1,2,3,4,5,6,7,8,9,10,11,12,13,14,15,16,17,18,19,20,21,22,23,24,25,26,27,28,29,30,31,32,33,34,35,36,37,38,39,40],\"coloraxis\":\"coloraxis\",\"symbol\":\"circle\"},\"mode\":\"markers\",\"name\":\"\",\"orientation\":\"v\",\"showlegend\":false,\"x\":[0,1,2,3,4,5,6,7,8,9,10,11,12,13,14,15,16,17,18,19,20,21,22,23,24,25,26,27,28,29,30,31,32,33,34,35,36,37,38,39,40],\"xaxis\":\"x\",\"y\":[\"United Kingdom\",\"Germany\",\"EIRE\",\"France\",\"Netherlands\",\"Spain\",\"Belgium\",\"Switzerland\",\"Portugal\",\"Australia\",\"Channel Islands\",\"Italy\",\"Norway\",\"Sweden\",\"Cyprus\",\"Finland\",\"Austria\",\"Denmark\",\"Greece\",\"Japan\",\"USA\",\"Poland\",\"Unspecified\",\"United Arab Emirates\",\"Singapore\",\"Israel\",\"Malta\",\"Iceland\",\"Canada\",\"Lithuania\",\"RSA\",\"Brazil\",\"Thailand\",\"Korea\",\"European Community\",\"Bahrain\",\"West Indies\",\"Lebanon\",\"Czech Republic\",\"Nigeria\",\"Saudi Arabia\"],\"yaxis\":\"y\",\"type\":\"scatter\"}],                        {\"template\":{\"data\":{\"histogram2dcontour\":[{\"type\":\"histogram2dcontour\",\"colorbar\":{\"outlinewidth\":0,\"ticks\":\"\"},\"colorscale\":[[0.0,\"#0d0887\"],[0.1111111111111111,\"#46039f\"],[0.2222222222222222,\"#7201a8\"],[0.3333333333333333,\"#9c179e\"],[0.4444444444444444,\"#bd3786\"],[0.5555555555555556,\"#d8576b\"],[0.6666666666666666,\"#ed7953\"],[0.7777777777777778,\"#fb9f3a\"],[0.8888888888888888,\"#fdca26\"],[1.0,\"#f0f921\"]]}],\"choropleth\":[{\"type\":\"choropleth\",\"colorbar\":{\"outlinewidth\":0,\"ticks\":\"\"}}],\"histogram2d\":[{\"type\":\"histogram2d\",\"colorbar\":{\"outlinewidth\":0,\"ticks\":\"\"},\"colorscale\":[[0.0,\"#0d0887\"],[0.1111111111111111,\"#46039f\"],[0.2222222222222222,\"#7201a8\"],[0.3333333333333333,\"#9c179e\"],[0.4444444444444444,\"#bd3786\"],[0.5555555555555556,\"#d8576b\"],[0.6666666666666666,\"#ed7953\"],[0.7777777777777778,\"#fb9f3a\"],[0.8888888888888888,\"#fdca26\"],[1.0,\"#f0f921\"]]}],\"heatmap\":[{\"type\":\"heatmap\",\"colorbar\":{\"outlinewidth\":0,\"ticks\":\"\"},\"colorscale\":[[0.0,\"#0d0887\"],[0.1111111111111111,\"#46039f\"],[0.2222222222222222,\"#7201a8\"],[0.3333333333333333,\"#9c179e\"],[0.4444444444444444,\"#bd3786\"],[0.5555555555555556,\"#d8576b\"],[0.6666666666666666,\"#ed7953\"],[0.7777777777777778,\"#fb9f3a\"],[0.8888888888888888,\"#fdca26\"],[1.0,\"#f0f921\"]]}],\"heatmapgl\":[{\"type\":\"heatmapgl\",\"colorbar\":{\"outlinewidth\":0,\"ticks\":\"\"},\"colorscale\":[[0.0,\"#0d0887\"],[0.1111111111111111,\"#46039f\"],[0.2222222222222222,\"#7201a8\"],[0.3333333333333333,\"#9c179e\"],[0.4444444444444444,\"#bd3786\"],[0.5555555555555556,\"#d8576b\"],[0.6666666666666666,\"#ed7953\"],[0.7777777777777778,\"#fb9f3a\"],[0.8888888888888888,\"#fdca26\"],[1.0,\"#f0f921\"]]}],\"contourcarpet\":[{\"type\":\"contourcarpet\",\"colorbar\":{\"outlinewidth\":0,\"ticks\":\"\"}}],\"contour\":[{\"type\":\"contour\",\"colorbar\":{\"outlinewidth\":0,\"ticks\":\"\"},\"colorscale\":[[0.0,\"#0d0887\"],[0.1111111111111111,\"#46039f\"],[0.2222222222222222,\"#7201a8\"],[0.3333333333333333,\"#9c179e\"],[0.4444444444444444,\"#bd3786\"],[0.5555555555555556,\"#d8576b\"],[0.6666666666666666,\"#ed7953\"],[0.7777777777777778,\"#fb9f3a\"],[0.8888888888888888,\"#fdca26\"],[1.0,\"#f0f921\"]]}],\"surface\":[{\"type\":\"surface\",\"colorbar\":{\"outlinewidth\":0,\"ticks\":\"\"},\"colorscale\":[[0.0,\"#0d0887\"],[0.1111111111111111,\"#46039f\"],[0.2222222222222222,\"#7201a8\"],[0.3333333333333333,\"#9c179e\"],[0.4444444444444444,\"#bd3786\"],[0.5555555555555556,\"#d8576b\"],[0.6666666666666666,\"#ed7953\"],[0.7777777777777778,\"#fb9f3a\"],[0.8888888888888888,\"#fdca26\"],[1.0,\"#f0f921\"]]}],\"mesh3d\":[{\"type\":\"mesh3d\",\"colorbar\":{\"outlinewidth\":0,\"ticks\":\"\"}}],\"scatter\":[{\"fillpattern\":{\"fillmode\":\"overlay\",\"size\":10,\"solidity\":0.2},\"type\":\"scatter\"}],\"parcoords\":[{\"type\":\"parcoords\",\"line\":{\"colorbar\":{\"outlinewidth\":0,\"ticks\":\"\"}}}],\"scatterpolargl\":[{\"type\":\"scatterpolargl\",\"marker\":{\"colorbar\":{\"outlinewidth\":0,\"ticks\":\"\"}}}],\"bar\":[{\"error_x\":{\"color\":\"#2a3f5f\"},\"error_y\":{\"color\":\"#2a3f5f\"},\"marker\":{\"line\":{\"color\":\"#E5ECF6\",\"width\":0.5},\"pattern\":{\"fillmode\":\"overlay\",\"size\":10,\"solidity\":0.2}},\"type\":\"bar\"}],\"scattergeo\":[{\"type\":\"scattergeo\",\"marker\":{\"colorbar\":{\"outlinewidth\":0,\"ticks\":\"\"}}}],\"scatterpolar\":[{\"type\":\"scatterpolar\",\"marker\":{\"colorbar\":{\"outlinewidth\":0,\"ticks\":\"\"}}}],\"histogram\":[{\"marker\":{\"pattern\":{\"fillmode\":\"overlay\",\"size\":10,\"solidity\":0.2}},\"type\":\"histogram\"}],\"scattergl\":[{\"type\":\"scattergl\",\"marker\":{\"colorbar\":{\"outlinewidth\":0,\"ticks\":\"\"}}}],\"scatter3d\":[{\"type\":\"scatter3d\",\"line\":{\"colorbar\":{\"outlinewidth\":0,\"ticks\":\"\"}},\"marker\":{\"colorbar\":{\"outlinewidth\":0,\"ticks\":\"\"}}}],\"scattermapbox\":[{\"type\":\"scattermapbox\",\"marker\":{\"colorbar\":{\"outlinewidth\":0,\"ticks\":\"\"}}}],\"scatterternary\":[{\"type\":\"scatterternary\",\"marker\":{\"colorbar\":{\"outlinewidth\":0,\"ticks\":\"\"}}}],\"scattercarpet\":[{\"type\":\"scattercarpet\",\"marker\":{\"colorbar\":{\"outlinewidth\":0,\"ticks\":\"\"}}}],\"carpet\":[{\"aaxis\":{\"endlinecolor\":\"#2a3f5f\",\"gridcolor\":\"white\",\"linecolor\":\"white\",\"minorgridcolor\":\"white\",\"startlinecolor\":\"#2a3f5f\"},\"baxis\":{\"endlinecolor\":\"#2a3f5f\",\"gridcolor\":\"white\",\"linecolor\":\"white\",\"minorgridcolor\":\"white\",\"startlinecolor\":\"#2a3f5f\"},\"type\":\"carpet\"}],\"table\":[{\"cells\":{\"fill\":{\"color\":\"#EBF0F8\"},\"line\":{\"color\":\"white\"}},\"header\":{\"fill\":{\"color\":\"#C8D4E3\"},\"line\":{\"color\":\"white\"}},\"type\":\"table\"}],\"barpolar\":[{\"marker\":{\"line\":{\"color\":\"#E5ECF6\",\"width\":0.5},\"pattern\":{\"fillmode\":\"overlay\",\"size\":10,\"solidity\":0.2}},\"type\":\"barpolar\"}],\"pie\":[{\"automargin\":true,\"type\":\"pie\"}]},\"layout\":{\"autotypenumbers\":\"strict\",\"colorway\":[\"#636efa\",\"#EF553B\",\"#00cc96\",\"#ab63fa\",\"#FFA15A\",\"#19d3f3\",\"#FF6692\",\"#B6E880\",\"#FF97FF\",\"#FECB52\"],\"font\":{\"color\":\"#2a3f5f\"},\"hovermode\":\"closest\",\"hoverlabel\":{\"align\":\"left\"},\"paper_bgcolor\":\"white\",\"plot_bgcolor\":\"#E5ECF6\",\"polar\":{\"bgcolor\":\"#E5ECF6\",\"angularaxis\":{\"gridcolor\":\"white\",\"linecolor\":\"white\",\"ticks\":\"\"},\"radialaxis\":{\"gridcolor\":\"white\",\"linecolor\":\"white\",\"ticks\":\"\"}},\"ternary\":{\"bgcolor\":\"#E5ECF6\",\"aaxis\":{\"gridcolor\":\"white\",\"linecolor\":\"white\",\"ticks\":\"\"},\"baxis\":{\"gridcolor\":\"white\",\"linecolor\":\"white\",\"ticks\":\"\"},\"caxis\":{\"gridcolor\":\"white\",\"linecolor\":\"white\",\"ticks\":\"\"}},\"coloraxis\":{\"colorbar\":{\"outlinewidth\":0,\"ticks\":\"\"}},\"colorscale\":{\"sequential\":[[0.0,\"#0d0887\"],[0.1111111111111111,\"#46039f\"],[0.2222222222222222,\"#7201a8\"],[0.3333333333333333,\"#9c179e\"],[0.4444444444444444,\"#bd3786\"],[0.5555555555555556,\"#d8576b\"],[0.6666666666666666,\"#ed7953\"],[0.7777777777777778,\"#fb9f3a\"],[0.8888888888888888,\"#fdca26\"],[1.0,\"#f0f921\"]],\"sequentialminus\":[[0.0,\"#0d0887\"],[0.1111111111111111,\"#46039f\"],[0.2222222222222222,\"#7201a8\"],[0.3333333333333333,\"#9c179e\"],[0.4444444444444444,\"#bd3786\"],[0.5555555555555556,\"#d8576b\"],[0.6666666666666666,\"#ed7953\"],[0.7777777777777778,\"#fb9f3a\"],[0.8888888888888888,\"#fdca26\"],[1.0,\"#f0f921\"]],\"diverging\":[[0,\"#8e0152\"],[0.1,\"#c51b7d\"],[0.2,\"#de77ae\"],[0.3,\"#f1b6da\"],[0.4,\"#fde0ef\"],[0.5,\"#f7f7f7\"],[0.6,\"#e6f5d0\"],[0.7,\"#b8e186\"],[0.8,\"#7fbc41\"],[0.9,\"#4d9221\"],[1,\"#276419\"]]},\"xaxis\":{\"gridcolor\":\"white\",\"linecolor\":\"white\",\"ticks\":\"\",\"title\":{\"standoff\":15},\"zerolinecolor\":\"white\",\"automargin\":true,\"zerolinewidth\":2},\"yaxis\":{\"gridcolor\":\"white\",\"linecolor\":\"white\",\"ticks\":\"\",\"title\":{\"standoff\":15},\"zerolinecolor\":\"white\",\"automargin\":true,\"zerolinewidth\":2},\"scene\":{\"xaxis\":{\"backgroundcolor\":\"#E5ECF6\",\"gridcolor\":\"white\",\"linecolor\":\"white\",\"showbackground\":true,\"ticks\":\"\",\"zerolinecolor\":\"white\",\"gridwidth\":2},\"yaxis\":{\"backgroundcolor\":\"#E5ECF6\",\"gridcolor\":\"white\",\"linecolor\":\"white\",\"showbackground\":true,\"ticks\":\"\",\"zerolinecolor\":\"white\",\"gridwidth\":2},\"zaxis\":{\"backgroundcolor\":\"#E5ECF6\",\"gridcolor\":\"white\",\"linecolor\":\"white\",\"showbackground\":true,\"ticks\":\"\",\"zerolinecolor\":\"white\",\"gridwidth\":2}},\"shapedefaults\":{\"line\":{\"color\":\"#2a3f5f\"}},\"annotationdefaults\":{\"arrowcolor\":\"#2a3f5f\",\"arrowhead\":0,\"arrowwidth\":1},\"geo\":{\"bgcolor\":\"white\",\"landcolor\":\"#E5ECF6\",\"subunitcolor\":\"white\",\"showland\":true,\"showlakes\":true,\"lakecolor\":\"white\"},\"title\":{\"x\":0.05},\"mapbox\":{\"style\":\"light\"}}},\"xaxis\":{\"anchor\":\"y\",\"domain\":[0.0,1.0],\"title\":{\"text\":\"index\"}},\"yaxis\":{\"anchor\":\"x\",\"domain\":[0.0,1.0],\"title\":{\"text\":\"Country\"}},\"coloraxis\":{\"colorbar\":{\"title\":{\"text\":\"index\"}},\"colorscale\":[[0.0,\"#0d0887\"],[0.1111111111111111,\"#46039f\"],[0.2222222222222222,\"#7201a8\"],[0.3333333333333333,\"#9c179e\"],[0.4444444444444444,\"#bd3786\"],[0.5555555555555556,\"#d8576b\"],[0.6666666666666666,\"#ed7953\"],[0.7777777777777778,\"#fb9f3a\"],[0.8888888888888888,\"#fdca26\"],[1.0,\"#f0f921\"]]},\"legend\":{\"tracegroupgap\":0},\"margin\":{\"t\":60}},                        {\"responsive\": true}                    ).then(function(){\n",
       "                            \n",
       "var gd = document.getElementById('423b8a1f-cfa8-41fd-87de-752838ee5500');\n",
       "var x = new MutationObserver(function (mutations, observer) {{\n",
       "        var display = window.getComputedStyle(gd).display;\n",
       "        if (!display || display === 'none') {{\n",
       "            console.log([gd, 'removed!']);\n",
       "            Plotly.purge(gd);\n",
       "            observer.disconnect();\n",
       "        }}\n",
       "}});\n",
       "\n",
       "// Listen for the removal of the full notebook cells\n",
       "var notebookContainer = gd.closest('#notebook-container');\n",
       "if (notebookContainer) {{\n",
       "    x.observe(notebookContainer, {childList: true});\n",
       "}}\n",
       "\n",
       "// Listen for the clearing of the current output cell\n",
       "var outputEl = gd.closest('.output');\n",
       "if (outputEl) {{\n",
       "    x.observe(outputEl, {childList: true});\n",
       "}}\n",
       "\n",
       "                        })                };                });            </script>        </div>"
      ]
     },
     "metadata": {},
     "output_type": "display_data"
    }
   ],
   "source": [
    "px.scatter(x, y = \"Country\", color = x.index) #checking for the occurence of most countries in our data"
   ]
  },
  {
   "cell_type": "code",
   "execution_count": 35,
   "id": "b0792fad",
   "metadata": {},
   "outputs": [
    {
     "data": {
      "text/plain": [
       "United Kingdom    741301\n",
       "Germany            17624\n",
       "EIRE               16195\n",
       "France             14202\n",
       "Netherlands         5140\n",
       "Name: Country, dtype: int64"
      ]
     },
     "execution_count": 35,
     "metadata": {},
     "output_type": "execute_result"
    }
   ],
   "source": [
    "df['Country'].value_counts().head(5)"
   ]
  },
  {
   "cell_type": "code",
   "execution_count": 15,
   "id": "8397e385",
   "metadata": {},
   "outputs": [
    {
     "data": {
      "text/plain": [
       "44876"
      ]
     },
     "execution_count": 15,
     "metadata": {},
     "output_type": "execute_result"
    }
   ],
   "source": [
    "df['Invoice'].nunique()"
   ]
  },
  {
   "cell_type": "code",
   "execution_count": 36,
   "id": "7e384af3",
   "metadata": {},
   "outputs": [
    {
     "name": "stderr",
     "output_type": "stream",
     "text": [
      "C:\\Users\\dhruv\\AppData\\Local\\Temp\\ipykernel_17792\\4028667197.py:1: FutureWarning:\n",
      "\n",
      "The default value of numeric_only in DataFrameGroupBy.mean is deprecated. In a future version, numeric_only will default to False. Either specify numeric_only or select only columns which should be valid for the function.\n",
      "\n"
     ]
    },
    {
     "data": {
      "text/html": [
       "<div>\n",
       "<style scoped>\n",
       "    .dataframe tbody tr th:only-of-type {\n",
       "        vertical-align: middle;\n",
       "    }\n",
       "\n",
       "    .dataframe tbody tr th {\n",
       "        vertical-align: top;\n",
       "    }\n",
       "\n",
       "    .dataframe thead th {\n",
       "        text-align: right;\n",
       "    }\n",
       "</style>\n",
       "<table border=\"1\" class=\"dataframe\">\n",
       "  <thead>\n",
       "    <tr style=\"text-align: right;\">\n",
       "      <th></th>\n",
       "      <th>Invoice</th>\n",
       "      <th>Price</th>\n",
       "    </tr>\n",
       "  </thead>\n",
       "  <tbody>\n",
       "    <tr>\n",
       "      <th>0</th>\n",
       "      <td>C556445</td>\n",
       "      <td>38970.00</td>\n",
       "    </tr>\n",
       "    <tr>\n",
       "      <th>1</th>\n",
       "      <td>C512770</td>\n",
       "      <td>25111.09</td>\n",
       "    </tr>\n",
       "    <tr>\n",
       "      <th>2</th>\n",
       "      <td>C502264</td>\n",
       "      <td>10953.50</td>\n",
       "    </tr>\n",
       "    <tr>\n",
       "      <th>3</th>\n",
       "      <td>502263</td>\n",
       "      <td>10953.50</td>\n",
       "    </tr>\n",
       "    <tr>\n",
       "      <th>4</th>\n",
       "      <td>C502262</td>\n",
       "      <td>10953.50</td>\n",
       "    </tr>\n",
       "    <tr>\n",
       "      <th>5</th>\n",
       "      <td>524159</td>\n",
       "      <td>10468.80</td>\n",
       "    </tr>\n",
       "    <tr>\n",
       "      <th>6</th>\n",
       "      <td>C522793</td>\n",
       "      <td>10468.80</td>\n",
       "    </tr>\n",
       "    <tr>\n",
       "      <th>7</th>\n",
       "      <td>C525398</td>\n",
       "      <td>10468.80</td>\n",
       "    </tr>\n",
       "    <tr>\n",
       "      <th>8</th>\n",
       "      <td>C496116</td>\n",
       "      <td>8985.60</td>\n",
       "    </tr>\n",
       "    <tr>\n",
       "      <th>9</th>\n",
       "      <td>496115</td>\n",
       "      <td>8985.60</td>\n",
       "    </tr>\n",
       "  </tbody>\n",
       "</table>\n",
       "</div>"
      ],
      "text/plain": [
       "   Invoice     Price\n",
       "0  C556445  38970.00\n",
       "1  C512770  25111.09\n",
       "2  C502264  10953.50\n",
       "3   502263  10953.50\n",
       "4  C502262  10953.50\n",
       "5   524159  10468.80\n",
       "6  C522793  10468.80\n",
       "7  C525398  10468.80\n",
       "8  C496116   8985.60\n",
       "9   496115   8985.60"
      ]
     },
     "execution_count": 36,
     "metadata": {},
     "output_type": "execute_result"
    }
   ],
   "source": [
    "Top_prices= (df.groupby([\"Invoice\"]).mean().sort_values(\"Price\", ascending = False).head(10).drop(['Quantity','Customer ID'], axis=1).reset_index())\n",
    "Top_prices"
   ]
  },
  {
   "cell_type": "code",
   "execution_count": 17,
   "id": "006c9eb9",
   "metadata": {},
   "outputs": [],
   "source": [
    "df['InvoiceDate']=pd.to_datetime(df['InvoiceDate'])"
   ]
  },
  {
   "cell_type": "code",
   "execution_count": 18,
   "id": "1a424906",
   "metadata": {},
   "outputs": [],
   "source": [
    "df_analysis=df.copy()"
   ]
  },
  {
   "cell_type": "code",
   "execution_count": 19,
   "id": "4d2c56b8",
   "metadata": {},
   "outputs": [],
   "source": [
    "\n",
    "df_analysis['Month'] = df_analysis['InvoiceDate'].dt.month\n",
    "df_analysis['Month'] = df_analysis['InvoiceDate'].dt.month\n",
    "df_analysis['Year'] = df_analysis['InvoiceDate'].dt.year\n",
    "df_analysis['Day'] = df_analysis['InvoiceDate'].dt.day\n",
    "df_analysis['Quarter'] = df_analysis['InvoiceDate'].dt.quarter\n",
    "df_analysis['Day of Week'] = df_analysis['InvoiceDate'].dt.dayofweek\n"
   ]
  },
  {
   "cell_type": "code",
   "execution_count": 20,
   "id": "6d2a3b2a",
   "metadata": {},
   "outputs": [],
   "source": [
    "dayofweek_mapping = dict({0: \"Monday\", 1: \"Tuesday\", \n",
    "                         2: \"Wednesday\" ,  3: \"Thursday\", \n",
    "                         4: \"Friday\", 5: \"Saturday\", 6: \"Sunday\"})"
   ]
  },
  {
   "cell_type": "code",
   "execution_count": 21,
   "id": "11de8562",
   "metadata": {
    "scrolled": true
   },
   "outputs": [],
   "source": [
    "df_analysis[\"Day of Week\"] = df_analysis[\"Day of Week\"].map(dayofweek_mapping)"
   ]
  },
  {
   "cell_type": "markdown",
   "id": "d25654c9",
   "metadata": {},
   "source": [
    "### Make analysis plots for when products are bought"
   ]
  },
  {
   "cell_type": "code",
   "execution_count": null,
   "id": "30e865be",
   "metadata": {},
   "outputs": [],
   "source": []
  },
  {
   "cell_type": "code",
   "execution_count": null,
   "id": "0d276660",
   "metadata": {},
   "outputs": [],
   "source": []
  },
  {
   "cell_type": "code",
   "execution_count": 37,
   "id": "92de6e1a",
   "metadata": {
    "scrolled": true
   },
   "outputs": [
    {
     "data": {
      "text/html": [
       "<div>\n",
       "<style scoped>\n",
       "    .dataframe tbody tr th:only-of-type {\n",
       "        vertical-align: middle;\n",
       "    }\n",
       "\n",
       "    .dataframe tbody tr th {\n",
       "        vertical-align: top;\n",
       "    }\n",
       "\n",
       "    .dataframe thead th {\n",
       "        text-align: right;\n",
       "    }\n",
       "</style>\n",
       "<table border=\"1\" class=\"dataframe\">\n",
       "  <thead>\n",
       "    <tr style=\"text-align: right;\">\n",
       "      <th></th>\n",
       "      <th>Invoice</th>\n",
       "      <th>StockCode</th>\n",
       "      <th>Description</th>\n",
       "      <th>Quantity</th>\n",
       "      <th>InvoiceDate</th>\n",
       "      <th>Price</th>\n",
       "      <th>Customer ID</th>\n",
       "      <th>Country</th>\n",
       "      <th>Month</th>\n",
       "      <th>Year</th>\n",
       "      <th>Day</th>\n",
       "      <th>Quarter</th>\n",
       "      <th>Day of Week</th>\n",
       "    </tr>\n",
       "  </thead>\n",
       "  <tbody>\n",
       "    <tr>\n",
       "      <th>0</th>\n",
       "      <td>489434</td>\n",
       "      <td>85048</td>\n",
       "      <td>15CM CHRISTMAS GLASS BALL 20 LIGHTS</td>\n",
       "      <td>12</td>\n",
       "      <td>2009-12-01 07:45:00</td>\n",
       "      <td>6.95</td>\n",
       "      <td>13085.0</td>\n",
       "      <td>United Kingdom</td>\n",
       "      <td>12</td>\n",
       "      <td>2009</td>\n",
       "      <td>1</td>\n",
       "      <td>4</td>\n",
       "      <td>Tuesday</td>\n",
       "    </tr>\n",
       "    <tr>\n",
       "      <th>1</th>\n",
       "      <td>489434</td>\n",
       "      <td>79323P</td>\n",
       "      <td>PINK CHERRY LIGHTS</td>\n",
       "      <td>12</td>\n",
       "      <td>2009-12-01 07:45:00</td>\n",
       "      <td>6.75</td>\n",
       "      <td>13085.0</td>\n",
       "      <td>United Kingdom</td>\n",
       "      <td>12</td>\n",
       "      <td>2009</td>\n",
       "      <td>1</td>\n",
       "      <td>4</td>\n",
       "      <td>Tuesday</td>\n",
       "    </tr>\n",
       "    <tr>\n",
       "      <th>2</th>\n",
       "      <td>489434</td>\n",
       "      <td>79323W</td>\n",
       "      <td>WHITE CHERRY LIGHTS</td>\n",
       "      <td>12</td>\n",
       "      <td>2009-12-01 07:45:00</td>\n",
       "      <td>6.75</td>\n",
       "      <td>13085.0</td>\n",
       "      <td>United Kingdom</td>\n",
       "      <td>12</td>\n",
       "      <td>2009</td>\n",
       "      <td>1</td>\n",
       "      <td>4</td>\n",
       "      <td>Tuesday</td>\n",
       "    </tr>\n",
       "    <tr>\n",
       "      <th>3</th>\n",
       "      <td>489434</td>\n",
       "      <td>22041</td>\n",
       "      <td>RECORD FRAME 7\" SINGLE SIZE</td>\n",
       "      <td>48</td>\n",
       "      <td>2009-12-01 07:45:00</td>\n",
       "      <td>2.10</td>\n",
       "      <td>13085.0</td>\n",
       "      <td>United Kingdom</td>\n",
       "      <td>12</td>\n",
       "      <td>2009</td>\n",
       "      <td>1</td>\n",
       "      <td>4</td>\n",
       "      <td>Tuesday</td>\n",
       "    </tr>\n",
       "    <tr>\n",
       "      <th>4</th>\n",
       "      <td>489434</td>\n",
       "      <td>21232</td>\n",
       "      <td>STRAWBERRY CERAMIC TRINKET BOX</td>\n",
       "      <td>24</td>\n",
       "      <td>2009-12-01 07:45:00</td>\n",
       "      <td>1.25</td>\n",
       "      <td>13085.0</td>\n",
       "      <td>United Kingdom</td>\n",
       "      <td>12</td>\n",
       "      <td>2009</td>\n",
       "      <td>1</td>\n",
       "      <td>4</td>\n",
       "      <td>Tuesday</td>\n",
       "    </tr>\n",
       "    <tr>\n",
       "      <th>...</th>\n",
       "      <td>...</td>\n",
       "      <td>...</td>\n",
       "      <td>...</td>\n",
       "      <td>...</td>\n",
       "      <td>...</td>\n",
       "      <td>...</td>\n",
       "      <td>...</td>\n",
       "      <td>...</td>\n",
       "      <td>...</td>\n",
       "      <td>...</td>\n",
       "      <td>...</td>\n",
       "      <td>...</td>\n",
       "      <td>...</td>\n",
       "    </tr>\n",
       "    <tr>\n",
       "      <th>541905</th>\n",
       "      <td>581587</td>\n",
       "      <td>22899</td>\n",
       "      <td>CHILDREN'S APRON DOLLY GIRL</td>\n",
       "      <td>6</td>\n",
       "      <td>2011-12-09 12:50:00</td>\n",
       "      <td>2.10</td>\n",
       "      <td>12680.0</td>\n",
       "      <td>France</td>\n",
       "      <td>12</td>\n",
       "      <td>2011</td>\n",
       "      <td>9</td>\n",
       "      <td>4</td>\n",
       "      <td>Friday</td>\n",
       "    </tr>\n",
       "    <tr>\n",
       "      <th>541906</th>\n",
       "      <td>581587</td>\n",
       "      <td>23254</td>\n",
       "      <td>CHILDRENS CUTLERY DOLLY GIRL</td>\n",
       "      <td>4</td>\n",
       "      <td>2011-12-09 12:50:00</td>\n",
       "      <td>4.15</td>\n",
       "      <td>12680.0</td>\n",
       "      <td>France</td>\n",
       "      <td>12</td>\n",
       "      <td>2011</td>\n",
       "      <td>9</td>\n",
       "      <td>4</td>\n",
       "      <td>Friday</td>\n",
       "    </tr>\n",
       "    <tr>\n",
       "      <th>541907</th>\n",
       "      <td>581587</td>\n",
       "      <td>23255</td>\n",
       "      <td>CHILDRENS CUTLERY CIRCUS PARADE</td>\n",
       "      <td>4</td>\n",
       "      <td>2011-12-09 12:50:00</td>\n",
       "      <td>4.15</td>\n",
       "      <td>12680.0</td>\n",
       "      <td>France</td>\n",
       "      <td>12</td>\n",
       "      <td>2011</td>\n",
       "      <td>9</td>\n",
       "      <td>4</td>\n",
       "      <td>Friday</td>\n",
       "    </tr>\n",
       "    <tr>\n",
       "      <th>541908</th>\n",
       "      <td>581587</td>\n",
       "      <td>22138</td>\n",
       "      <td>BAKING SET 9 PIECE RETROSPOT</td>\n",
       "      <td>3</td>\n",
       "      <td>2011-12-09 12:50:00</td>\n",
       "      <td>4.95</td>\n",
       "      <td>12680.0</td>\n",
       "      <td>France</td>\n",
       "      <td>12</td>\n",
       "      <td>2011</td>\n",
       "      <td>9</td>\n",
       "      <td>4</td>\n",
       "      <td>Friday</td>\n",
       "    </tr>\n",
       "    <tr>\n",
       "      <th>541909</th>\n",
       "      <td>581587</td>\n",
       "      <td>POST</td>\n",
       "      <td>POSTAGE</td>\n",
       "      <td>1</td>\n",
       "      <td>2011-12-09 12:50:00</td>\n",
       "      <td>18.00</td>\n",
       "      <td>12680.0</td>\n",
       "      <td>France</td>\n",
       "      <td>12</td>\n",
       "      <td>2011</td>\n",
       "      <td>9</td>\n",
       "      <td>4</td>\n",
       "      <td>Friday</td>\n",
       "    </tr>\n",
       "  </tbody>\n",
       "</table>\n",
       "<p>824364 rows × 13 columns</p>\n",
       "</div>"
      ],
      "text/plain": [
       "       Invoice StockCode                          Description  Quantity  \\\n",
       "0       489434     85048  15CM CHRISTMAS GLASS BALL 20 LIGHTS        12   \n",
       "1       489434    79323P                   PINK CHERRY LIGHTS        12   \n",
       "2       489434    79323W                  WHITE CHERRY LIGHTS        12   \n",
       "3       489434     22041         RECORD FRAME 7\" SINGLE SIZE         48   \n",
       "4       489434     21232       STRAWBERRY CERAMIC TRINKET BOX        24   \n",
       "...        ...       ...                                  ...       ...   \n",
       "541905  581587     22899         CHILDREN'S APRON DOLLY GIRL          6   \n",
       "541906  581587     23254        CHILDRENS CUTLERY DOLLY GIRL          4   \n",
       "541907  581587     23255      CHILDRENS CUTLERY CIRCUS PARADE         4   \n",
       "541908  581587     22138        BAKING SET 9 PIECE RETROSPOT          3   \n",
       "541909  581587      POST                              POSTAGE         1   \n",
       "\n",
       "               InvoiceDate  Price  Customer ID         Country  Month  Year  \\\n",
       "0      2009-12-01 07:45:00   6.95      13085.0  United Kingdom     12  2009   \n",
       "1      2009-12-01 07:45:00   6.75      13085.0  United Kingdom     12  2009   \n",
       "2      2009-12-01 07:45:00   6.75      13085.0  United Kingdom     12  2009   \n",
       "3      2009-12-01 07:45:00   2.10      13085.0  United Kingdom     12  2009   \n",
       "4      2009-12-01 07:45:00   1.25      13085.0  United Kingdom     12  2009   \n",
       "...                    ...    ...          ...             ...    ...   ...   \n",
       "541905 2011-12-09 12:50:00   2.10      12680.0          France     12  2011   \n",
       "541906 2011-12-09 12:50:00   4.15      12680.0          France     12  2011   \n",
       "541907 2011-12-09 12:50:00   4.15      12680.0          France     12  2011   \n",
       "541908 2011-12-09 12:50:00   4.95      12680.0          France     12  2011   \n",
       "541909 2011-12-09 12:50:00  18.00      12680.0          France     12  2011   \n",
       "\n",
       "        Day  Quarter Day of Week  \n",
       "0         1        4     Tuesday  \n",
       "1         1        4     Tuesday  \n",
       "2         1        4     Tuesday  \n",
       "3         1        4     Tuesday  \n",
       "4         1        4     Tuesday  \n",
       "...     ...      ...         ...  \n",
       "541905    9        4      Friday  \n",
       "541906    9        4      Friday  \n",
       "541907    9        4      Friday  \n",
       "541908    9        4      Friday  \n",
       "541909    9        4      Friday  \n",
       "\n",
       "[824364 rows x 13 columns]"
      ]
     },
     "execution_count": 37,
     "metadata": {},
     "output_type": "execute_result"
    }
   ],
   "source": [
    "df_analysis"
   ]
  },
  {
   "cell_type": "code",
   "execution_count": 38,
   "id": "6fc248ad",
   "metadata": {},
   "outputs": [],
   "source": [
    "snapshot_date = max(df_analysis['InvoiceDate']) +pd.DateOffset(days=1)"
   ]
  },
  {
   "cell_type": "code",
   "execution_count": 40,
   "id": "9adce0c0",
   "metadata": {},
   "outputs": [],
   "source": [
    "rfm = df_analysis.groupby(['Customer ID']).agg({\n",
    "    'InvoiceDate': lambda x: (snapshot_date - x.max()).days,\n",
    "    'Invoice': 'count',\n",
    "    'Price': 'sum'\n",
    "})"
   ]
  },
  {
   "cell_type": "code",
   "execution_count": 41,
   "id": "56473b06",
   "metadata": {},
   "outputs": [],
   "source": [
    "rfm.rename(columns={'InvoiceDate': 'Recency',\n",
    "                    'Invoice': 'Frequency',\n",
    "                    'Price': 'MonetaryValue'}, inplace=True)"
   ]
  },
  {
   "cell_type": "code",
   "execution_count": 42,
   "id": "889e2d5d",
   "metadata": {},
   "outputs": [
    {
     "data": {
      "text/html": [
       "<div>\n",
       "<style scoped>\n",
       "    .dataframe tbody tr th:only-of-type {\n",
       "        vertical-align: middle;\n",
       "    }\n",
       "\n",
       "    .dataframe tbody tr th {\n",
       "        vertical-align: top;\n",
       "    }\n",
       "\n",
       "    .dataframe thead th {\n",
       "        text-align: right;\n",
       "    }\n",
       "</style>\n",
       "<table border=\"1\" class=\"dataframe\">\n",
       "  <thead>\n",
       "    <tr style=\"text-align: right;\">\n",
       "      <th></th>\n",
       "      <th>Customer ID</th>\n",
       "      <th>Recency</th>\n",
       "      <th>Frequency</th>\n",
       "      <th>MonetaryValue</th>\n",
       "    </tr>\n",
       "  </thead>\n",
       "  <tbody>\n",
       "    <tr>\n",
       "      <th>0</th>\n",
       "      <td>12346.0</td>\n",
       "      <td>326</td>\n",
       "      <td>48</td>\n",
       "      <td>580.44</td>\n",
       "    </tr>\n",
       "    <tr>\n",
       "      <th>1</th>\n",
       "      <td>12347.0</td>\n",
       "      <td>2</td>\n",
       "      <td>253</td>\n",
       "      <td>644.16</td>\n",
       "    </tr>\n",
       "    <tr>\n",
       "      <th>2</th>\n",
       "      <td>12348.0</td>\n",
       "      <td>75</td>\n",
       "      <td>51</td>\n",
       "      <td>193.10</td>\n",
       "    </tr>\n",
       "    <tr>\n",
       "      <th>3</th>\n",
       "      <td>12349.0</td>\n",
       "      <td>19</td>\n",
       "      <td>180</td>\n",
       "      <td>1504.59</td>\n",
       "    </tr>\n",
       "    <tr>\n",
       "      <th>4</th>\n",
       "      <td>12350.0</td>\n",
       "      <td>310</td>\n",
       "      <td>17</td>\n",
       "      <td>65.30</td>\n",
       "    </tr>\n",
       "  </tbody>\n",
       "</table>\n",
       "</div>"
      ],
      "text/plain": [
       "   Customer ID  Recency  Frequency  MonetaryValue\n",
       "0      12346.0      326         48         580.44\n",
       "1      12347.0        2        253         644.16\n",
       "2      12348.0       75         51         193.10\n",
       "3      12349.0       19        180        1504.59\n",
       "4      12350.0      310         17          65.30"
      ]
     },
     "execution_count": 42,
     "metadata": {},
     "output_type": "execute_result"
    }
   ],
   "source": [
    "rfm.reset_index(inplace=True)\n",
    "rfm.head()"
   ]
  },
  {
   "cell_type": "code",
   "execution_count": 43,
   "id": "3d3b3063",
   "metadata": {},
   "outputs": [
    {
     "data": {
      "text/html": [
       "<div>\n",
       "<style scoped>\n",
       "    .dataframe tbody tr th:only-of-type {\n",
       "        vertical-align: middle;\n",
       "    }\n",
       "\n",
       "    .dataframe tbody tr th {\n",
       "        vertical-align: top;\n",
       "    }\n",
       "\n",
       "    .dataframe thead th {\n",
       "        text-align: right;\n",
       "    }\n",
       "</style>\n",
       "<table border=\"1\" class=\"dataframe\">\n",
       "  <thead>\n",
       "    <tr style=\"text-align: right;\">\n",
       "      <th></th>\n",
       "      <th>Customer ID</th>\n",
       "      <th>Recency</th>\n",
       "      <th>Frequency</th>\n",
       "      <th>MonetaryValue</th>\n",
       "      <th>R_Score</th>\n",
       "      <th>F_Score</th>\n",
       "      <th>M_Score</th>\n",
       "      <th>RFM_Segment</th>\n",
       "      <th>RFM_Score</th>\n",
       "    </tr>\n",
       "  </thead>\n",
       "  <tbody>\n",
       "    <tr>\n",
       "      <th>0</th>\n",
       "      <td>12346.0</td>\n",
       "      <td>326</td>\n",
       "      <td>48</td>\n",
       "      <td>580.44</td>\n",
       "      <td>2</td>\n",
       "      <td>2</td>\n",
       "      <td>4</td>\n",
       "      <td>224</td>\n",
       "      <td>8</td>\n",
       "    </tr>\n",
       "    <tr>\n",
       "      <th>1</th>\n",
       "      <td>12347.0</td>\n",
       "      <td>2</td>\n",
       "      <td>253</td>\n",
       "      <td>644.16</td>\n",
       "      <td>4</td>\n",
       "      <td>4</td>\n",
       "      <td>4</td>\n",
       "      <td>444</td>\n",
       "      <td>12</td>\n",
       "    </tr>\n",
       "    <tr>\n",
       "      <th>2</th>\n",
       "      <td>12348.0</td>\n",
       "      <td>75</td>\n",
       "      <td>51</td>\n",
       "      <td>193.10</td>\n",
       "      <td>3</td>\n",
       "      <td>2</td>\n",
       "      <td>3</td>\n",
       "      <td>323</td>\n",
       "      <td>8</td>\n",
       "    </tr>\n",
       "    <tr>\n",
       "      <th>3</th>\n",
       "      <td>12349.0</td>\n",
       "      <td>19</td>\n",
       "      <td>180</td>\n",
       "      <td>1504.59</td>\n",
       "      <td>4</td>\n",
       "      <td>4</td>\n",
       "      <td>4</td>\n",
       "      <td>444</td>\n",
       "      <td>12</td>\n",
       "    </tr>\n",
       "    <tr>\n",
       "      <th>4</th>\n",
       "      <td>12350.0</td>\n",
       "      <td>310</td>\n",
       "      <td>17</td>\n",
       "      <td>65.30</td>\n",
       "      <td>2</td>\n",
       "      <td>1</td>\n",
       "      <td>1</td>\n",
       "      <td>211</td>\n",
       "      <td>4</td>\n",
       "    </tr>\n",
       "  </tbody>\n",
       "</table>\n",
       "</div>"
      ],
      "text/plain": [
       "   Customer ID  Recency  Frequency  MonetaryValue R_Score F_Score M_Score  \\\n",
       "0      12346.0      326         48         580.44       2       2       4   \n",
       "1      12347.0        2        253         644.16       4       4       4   \n",
       "2      12348.0       75         51         193.10       3       2       3   \n",
       "3      12349.0       19        180        1504.59       4       4       4   \n",
       "4      12350.0      310         17          65.30       2       1       1   \n",
       "\n",
       "  RFM_Segment  RFM_Score  \n",
       "0         224          8  \n",
       "1         444         12  \n",
       "2         323          8  \n",
       "3         444         12  \n",
       "4         211          4  "
      ]
     },
     "execution_count": 43,
     "metadata": {},
     "output_type": "execute_result"
    }
   ],
   "source": [
    "rfm['R_Score'] = pd.qcut(rfm['Recency'], 4, labels=[4, 3, 2, 1])\n",
    "rfm['F_Score'] = pd.qcut(rfm['Frequency'], 4, labels=[1, 2, 3, 4])\n",
    "rfm['M_Score'] = pd.qcut(rfm['MonetaryValue'], 4, labels=[1, 2, 3, 4])\n",
    "\n",
    "rfm['RFM_Segment'] = rfm['R_Score'].astype(str) + rfm['F_Score'].astype(str) + rfm['M_Score'].astype(str)\n",
    "\n",
    "rfm['RFM_Score'] = rfm[['R_Score', 'F_Score', 'M_Score']].sum(axis=1)\n",
    "\n",
    "rfm.head()\n"
   ]
  },
  {
   "cell_type": "code",
   "execution_count": 46,
   "id": "f41776f1",
   "metadata": {},
   "outputs": [
    {
     "data": {
      "image/png": "[encoded data removed]",
      "text/plain": [
       "<Figure size 1800x500 with 3 Axes>"
      ]
     },
     "metadata": {},
     "output_type": "display_data"
    }
   ],
   "source": [
    "rfm_trend = df_analysis.groupby(['Year', 'Month']).agg({\n",
    "    'Customer ID': pd.Series.nunique,\n",
    "    'Invoice': 'count',\n",
    "    'Price': 'sum'\n",
    "}).reset_index()\n",
    "\n",
    "rfm_trend.rename(columns={'Customer ID': 'Unique Customers', 'Invoice': 'Total Purchases', 'Price': 'Total Revenue'}, inplace=True)\n",
    "\n",
    "rfm_pivot = rfm_trend.pivot_table(index=['Year', 'Month'], values=['Unique Customers', 'Total Purchases', 'Total Revenue'])\n",
    "plt.figure(figsize=(18, 5))\n",
    "\n",
    "# Unique Customers Trend\n",
    "plt.subplot(1, 3, 1)\n",
    "rfm_pivot['Unique Customers'].plot()\n",
    "plt.title('Unique Customer Trend')\n",
    "plt.xlabel('Year-Month')\n",
    "plt.ylabel('Unique Customers')\n",
    "\n",
    "# Total Purchases Trend\n",
    "plt.subplot(1, 3, 2)\n",
    "rfm_pivot['Total Purchases'].plot()\n",
    "plt.title('Total Purchases Trend')\n",
    "plt.xlabel('Year-Month')\n",
    "plt.ylabel('Total Purchases')\n",
    "\n",
    "# Total Revenue Trend\n",
    "plt.subplot(1, 3, 3)\n",
    "rfm_pivot['Total Revenue'].plot()\n",
    "plt.title('Total Revenue Trend')\n",
    "plt.xlabel('Year-Month')\n",
    "plt.ylabel('Total Revenue')\n",
    "\n",
    "plt.tight_layout()\n",
    "plt.show()\n",
    "\n"
   ]
  },
  {
   "cell_type": "markdown",
   "id": "9e1fb1b8",
   "metadata": {},
   "source": [
    "1. **Unique Customer Trend**:\n",
    "   - There's a noticeable peak around May 2010, after which the number of unique customers declines sharply.\n",
    "   - A similar but smaller peak occurs around August 2011.\n",
    "   - The lowest point seems to be around December 2009, and there's a general growth trend in unique customers from that point until May 2010.\n",
    "   - After the peak in May 2010, there's a decline followed by a period of relative stability with minor fluctuations.\n",
    "\n",
    "2. **Total Purchases Trend**:\n",
    "   - Just like the unique customer trend, there's a sharp peak around May 2010, which is then followed by a steep decline.\n",
    "   - There's also another peak around August 2011, though it's not as pronounced as the first one.\n",
    "   - The trend between these two peaks shows a stable period with slight growth.\n",
    "\n",
    "3. **Total Revenue Trend**:\n",
    "   - The revenue trend is more volatile compared to the other two.\n",
    "   - There are multiple peaks and valleys. The peaks occur around December 2009, May 2010, and August 2011. These peaks align well with the peaks in the other two graphs.\n",
    "   - Interestingly, while the unique customers and total purchases show a decline post-May 2010, the total revenue doesn't drop as sharply. This could indicate that while fewer customers were making purchases, the average transaction value might have been higher.\n",
    "   - The period post-August 2011 indicates a decline in revenue, which seems to stabilize towards the end of the graph.\n",
    "\n",
    "**Analysis**:\n",
    "- The peaks in May 2010 and August 2011 across all three graphs suggest that there might have been some marketing campaigns, events, or external factors that drove higher engagement during those times.\n",
    "- Post the peak in May 2010, even though the number of unique customers and total purchases declined, the revenue didn't drop as drastically. This might be due to higher transaction values or selling more premium products/services during that period.\n",
    "- It would be beneficial to understand external and internal business activities during these peak times to gain a better understanding of what drove the spikes and how they can potentially be replicated in the future."
   ]
  },
  {
   "cell_type": "code",
   "execution_count": 44,
   "id": "34554d40",
   "metadata": {},
   "outputs": [
    {
     "data": {
      "text/plain": [
       "Lost Customers            98\n",
       "Can’t Lose Them          136\n",
       "Potential Loyalist       143\n",
       "At Risk                  196\n",
       "About To Sleep           789\n",
       "Lost Cheap Customers     848\n",
       "Hibernating             1844\n",
       "Champions               1888\n",
       "Name: Segment, dtype: int64"
      ]
     },
     "execution_count": 44,
     "metadata": {},
     "output_type": "execute_result"
    }
   ],
   "source": [
    "segt_map = {\n",
    "    r'[1-2][1-2][1-2]': 'Hibernating',\n",
    "    r'[1-2][1-2][3-4]': 'At Risk',\n",
    "    r'[1-2][3-4][1-2]': 'Can’t Lose Them',\n",
    "    r'[1-2][3-4][3-4]': 'About To Sleep',\n",
    "    r'[3-4][1-2][1-2]': 'Lost Cheap Customers',\n",
    "    r'[3-4][1-2][3-4]': 'Lost Customers',\n",
    "    r'[3-4][3-4][1-2]': 'Potential Loyalist',\n",
    "    r'[3-4][3-4][3-4]': 'Champions'\n",
    "}\n",
    "\n",
    "rfm['Segment'] = rfm['R_Score'].astype(str) + rfm['F_Score'].astype(str) + rfm['M_Score'].astype(str)\n",
    "rfm['Segment'] = rfm['Segment'].replace(segt_map, regex=True)\n",
    "\n",
    "segment_counts = rfm['Segment'].value_counts().sort_values(ascending=True)\n",
    "\n",
    "segment_counts\n"
   ]
  },
  {
   "cell_type": "markdown",
   "id": "60fa0f98",
   "metadata": {},
   "source": [
    "1. **Top Customers (Champions)**: These customers have the highest RFM scores and are frequent, recent buyers with a high monetary value. They are likely to respond well to upselling and cross-selling opportunities.\n",
    "2. **Loyal Customers**: Customers with high frequency but potentially lower recency and/or monetary scores. They buy often and are engaged with the brand.\n",
    "3. **Potential Loyalist**: These are customers with a high monetary score and a good frequency but might not have shopped recently.\n",
    "4. **Recent Customers**: Customers with high recency scores but lower frequency and monetary values. They are new customers that have the potential to become repeat buyers.\n",
    "5. **At Risk**: Customers who have spent a lot and shopped often but haven't returned for a long time.\n",
    "6. **Can’t Lose Them**: Once loyal and high-spending customers who haven’t made purchases in a long time.\n",
    "7. **Hibernating**: Low recency, frequency, and monetary scores, indicating customers who used to shop but haven't engaged in a long time.\n",
    "8. **Lost Customers**: The lowest RFM scores across all three dimensions. They are unlikely to return and may not be worth investing in reactivation efforts.\n",
    "\n",
    "- **Champions**: 1888 customers\n",
    "- **Hibernating**: 1844 customers\n",
    "- **Lost Cheap Customers**: 848 customers\n",
    "- **About To Sleep**: 789 customers\n",
    "- **At Risk**: 196 customers\n",
    "- **Potential Loyalist**: 143 customers\n",
    "- **Can’t Lose Them**: 136 customers\n",
    "- **Lost Customers**: 98 customers\n",
    "\n",
    "\n",
    "## Analysis\n",
    "\n",
    "- Offer exclusive promotions to \"Champions\" to reward their loyalty and encourage further engagement.\n",
    "- Send loyalty programs or feedback requests to \"Potential Loyalists\" to increase their engagement and move them towards becoming \"Champions\".\n",
    "- Create re-engagement campaigns for \"At Risk\" and \"Can’t Lose Them\" segments to encourage them to make another purchase.\n",
    "- Approach \"Hibernating\" customers with special comeback deals or information on what's new since they last purchased.\n"
   ]
  },
  {
   "cell_type": "code",
   "execution_count": 53,
   "id": "fa9ffe30",
   "metadata": {},
   "outputs": [
    {
     "data": {
      "text/html": [
       "<div>\n",
       "<style scoped>\n",
       "    .dataframe tbody tr th:only-of-type {\n",
       "        vertical-align: middle;\n",
       "    }\n",
       "\n",
       "    .dataframe tbody tr th {\n",
       "        vertical-align: top;\n",
       "    }\n",
       "\n",
       "    .dataframe thead th {\n",
       "        text-align: right;\n",
       "    }\n",
       "</style>\n",
       "<table border=\"1\" class=\"dataframe\">\n",
       "  <thead>\n",
       "    <tr style=\"text-align: right;\">\n",
       "      <th></th>\n",
       "      <th>Segment</th>\n",
       "      <th>MonetaryValue</th>\n",
       "      <th>Frequency</th>\n",
       "      <th>Return Rate</th>\n",
       "    </tr>\n",
       "  </thead>\n",
       "  <tbody>\n",
       "    <tr>\n",
       "      <th>0</th>\n",
       "      <td>About To Sleep</td>\n",
       "      <td>547.390540</td>\n",
       "      <td>157.485425</td>\n",
       "      <td>0.023883</td>\n",
       "    </tr>\n",
       "    <tr>\n",
       "      <th>1</th>\n",
       "      <td>At Risk</td>\n",
       "      <td>1506.276173</td>\n",
       "      <td>32.285714</td>\n",
       "      <td>0.204524</td>\n",
       "    </tr>\n",
       "    <tr>\n",
       "      <th>2</th>\n",
       "      <td>Can’t Lose Them</td>\n",
       "      <td>139.747206</td>\n",
       "      <td>67.213235</td>\n",
       "      <td>0.016268</td>\n",
       "    </tr>\n",
       "    <tr>\n",
       "      <th>3</th>\n",
       "      <td>Champions</td>\n",
       "      <td>1088.344818</td>\n",
       "      <td>324.363877</td>\n",
       "      <td>0.024519</td>\n",
       "    </tr>\n",
       "    <tr>\n",
       "      <th>4</th>\n",
       "      <td>Hibernating</td>\n",
       "      <td>62.923477</td>\n",
       "      <td>19.787419</td>\n",
       "      <td>0.046673</td>\n",
       "    </tr>\n",
       "    <tr>\n",
       "      <th>5</th>\n",
       "      <td>Lost Cheap Customers</td>\n",
       "      <td>71.537219</td>\n",
       "      <td>24.949292</td>\n",
       "      <td>0.024114</td>\n",
       "    </tr>\n",
       "    <tr>\n",
       "      <th>6</th>\n",
       "      <td>Lost Customers</td>\n",
       "      <td>343.363990</td>\n",
       "      <td>41.836735</td>\n",
       "      <td>0.036041</td>\n",
       "    </tr>\n",
       "    <tr>\n",
       "      <th>7</th>\n",
       "      <td>Potential Loyalist</td>\n",
       "      <td>138.148112</td>\n",
       "      <td>73.391608</td>\n",
       "      <td>0.012119</td>\n",
       "    </tr>\n",
       "  </tbody>\n",
       "</table>\n",
       "</div>"
      ],
      "text/plain": [
       "                Segment  MonetaryValue   Frequency  Return Rate\n",
       "0        About To Sleep     547.390540  157.485425     0.023883\n",
       "1               At Risk    1506.276173   32.285714     0.204524\n",
       "2       Can’t Lose Them     139.747206   67.213235     0.016268\n",
       "3             Champions    1088.344818  324.363877     0.024519\n",
       "4           Hibernating      62.923477   19.787419     0.046673\n",
       "5  Lost Cheap Customers      71.537219   24.949292     0.024114\n",
       "6        Lost Customers     343.363990   41.836735     0.036041\n",
       "7    Potential Loyalist     138.148112   73.391608     0.012119"
      ]
     },
     "execution_count": 53,
     "metadata": {},
     "output_type": "execute_result"
    }
   ],
   "source": [
    "# Identify returned transactions\n",
    "returns_invoices = df_analysis[df_analysis['Invoice'].astype(str).str.contains('C')]\n",
    "customer_return_rates = returns_invoices.groupby('Customer ID').size() / df_analysis.groupby('Customer ID').size()\n",
    "customer_return_rates_df = customer_return_rates.reset_index().rename(columns={0: 'Return Rate'})\n",
    "rfm_with_returns = rfm.merge(customer_return_rates_df, on='Customer ID', how='left')\n",
    "rfm_with_returns['Return Rate'].fillna(0, inplace=True)\n",
    "segment_profiles = rfm_with_returns.groupby('Segment').agg({\n",
    "    'MonetaryValue': 'mean',\n",
    "    'Frequency': 'mean',\n",
    "    'Return Rate': 'mean'\n",
    "}).reset_index()\n",
    "segment_profiles\n",
    "\n"
   ]
  },
  {
   "cell_type": "markdown",
   "id": "5237b0fb",
   "metadata": {},
   "source": [
    "1. **About To Sleep**: These customers have a moderate average monetary value and a high purchase frequency but have not purchased recently. The return rate is relatively low. Strategies for this group could focus on re-engagement campaigns to remind them of the brand and encourage them to return.\n",
    "\n",
    "2. **At Risk**: This segment has a high average monetary value but a low purchase frequency and a significantly high return rate. These customers have spent a lot but are not purchasing frequently and when they do, they return items often. This could indicate dissatisfaction or issues with the products. It would be crucial to reach out to these customers with surveys or personalized communication to understand their issues and improve their customer experience.\n",
    "\n",
    "3. **Can’t Lose Them**: Customers in this segment have a low average monetary value and an above-average frequency. The return rate is low, which suggests they are satisfied with their purchases. They might be buying less expensive items but doing so regularly. It would be beneficial to try to upsell or cross-sell to increase their average spend.\n",
    "\n",
    "4. **Champions**: These are your best customers with high monetary value and high purchase frequency. They also have a low return rate, which indicates strong satisfaction with their purchases. Maintaining a good relationship with these customers is essential, and they could be targeted with loyalty programs, exclusive offers, or early access to new products.\n",
    "\n",
    "5. **Hibernating**: These customers have the lowest average monetary value and frequency, and a relatively high return rate. They may be infrequent shoppers who are not highly engaged with the brand. Tailored promotions or feedback requests might be ways to revive interest among these customers.\n",
    "\n",
    "6. **Lost Cheap Customers**: This segment has a low monetary value, low frequency, and low return rate. They have not spent much and do not purchase often. It might not be cost-effective to invest heavily in re-engaging this segment, but periodic low-cost promotions could be used to entice them back.\n",
    "\n",
    "7. **Lost Customers**: With a moderate average monetary value and frequency, these customers have stopped purchasing recently. The return rate is higher than average, suggesting potential issues with product satisfaction. It might be worthwhile to investigate why these customers have stopped purchasing and address any service or product issues.\n",
    "\n",
    "8. **Potential Loyalist**: This segment has a moderate average monetary value and high frequency. They have a very low return rate, which suggests they are recent customers who are happy with their purchases. These customers show the potential to become high-value customers, and efforts should be made to nurture these relationships through personalized marketing, recommendations, and loyalty programs.\n",
    "\n",
    "Overall, each segment requires a different marketing and customer service strategy. High-value segments like Champions and Potential Loyalist should be the focus for retention and loyalty programs, while \"At Risk\" customers need attention to understand their dissatisfaction. For Hibernating and Lost segments, reactivation strategies are needed, possibly through re-engagement campaigns and feedback solicitation to identify any service or product improvement opportunities."
   ]
  },
  {
   "cell_type": "code",
   "execution_count": 57,
   "id": "38344696",
   "metadata": {},
   "outputs": [
    {
     "data": {
      "image/png": "[encoded data removed]",
      "text/plain": [
       "<Figure size 1500x700 with 1 Axes>"
      ]
     },
     "metadata": {},
     "output_type": "display_data"
    }
   ],
   "source": [
    "rfm['RFM_Segment'] = rfm['R_Score'].astype(str) + rfm['F_Score'].astype(str) + rfm['M_Score'].astype(str)\n",
    "rfm['Segment'] = rfm['RFM_Segment'].replace(segt_map, regex=True)\n",
    "\n",
    "df_analysis_with_segment = df_analysis.merge(rfm[['Customer ID', 'Segment']], on='Customer ID', how='left')\n",
    "\n",
    "df_analysis_with_segment['YearMonth'] = df_analysis_with_segment['InvoiceDate'].dt.to_period('M')\n",
    "\n",
    "time_series_data = df_analysis_with_segment.groupby(['YearMonth', 'Segment']).agg({\n",
    "    'Price': 'sum',  \n",
    "    'Invoice': 'nunique', \n",
    "    'Customer ID': 'nunique' \n",
    "}).reset_index()\n",
    "\n",
    "time_series_pivot = time_series_data.pivot_table(index='YearMonth', columns='Segment', values='Price')\n",
    "\n",
    "segments_to_plot = ['Champions', 'At Risk', 'Hibernating', 'Potential Loyalist']\n",
    "time_series_pivot = time_series_pivot[segments_to_plot]\n",
    "\n",
    "plt.figure(figsize=(15, 7))\n",
    "for segment in segments_to_plot:\n",
    "    plt.plot(time_series_pivot.index.astype(str), time_series_pivot[segment], label=segment)\n",
    "\n",
    "plt.title('Sales Trends by RFM Segment')\n",
    "plt.xlabel('Year-Month')\n",
    "plt.ylabel('Total Sales')\n",
    "plt.legend()\n",
    "plt.xticks(rotation=45)\n",
    "plt.tight_layout()\n",
    "\n",
    "\n",
    "\n"
   ]
  },
  {
   "cell_type": "markdown",
   "id": "761abdf6",
   "metadata": {},
   "source": [
    "1. **Champions (Blue Line)**:\n",
    "   - The \"Champions\" segment consistently drives the highest sales throughout the entire time frame.\n",
    "   - There are major peaks in sales around early 2010, mid-2011, and late 2021.\n",
    "   - The most significant peak occurs around late 2021, with a sharp decline right after.\n",
    "   - There are periods of relative stability, particularly between early 2011 and mid-2011 and from early 2014 to mid-2014.\n",
    "\n",
    "2. **At Risk (Orange Line)**:\n",
    "   - This segment has periodic spikes in sales, notably around early 2010, mid-2011, and mid-2013.\n",
    "   - Post-mid-2013, sales from the \"At Risk\" segment have significantly declined and have remained low.\n",
    "\n",
    "3. **Hibernating (Green Line)**:\n",
    "   - Sales from the \"Hibernating\" segment are relatively consistent but at a much lower volume compared to the other segments.\n",
    "   - There's a slight increase in sales around mid-2011 and mid-2013 but then returns to a low baseline.\n",
    "\n",
    "4. **Potential Loyalist (Red Line)**:\n",
    "   - This segment has the lowest sales across the time frame.\n",
    "   - There's a minor peak around mid-2013, but sales have remained flat for the most part.\n",
    "\n",
    "**General Observations**:\n",
    "- **Volatility**: The \"Champions\" segment, despite its high sales, shows volatility with sharp peaks and valleys, suggesting potential seasonal trends or impacts from promotional campaigns.\n",
    "- **Decline in At Risk**: The sales from the \"At Risk\" segment, which showed promise with intermittent peaks, has seen a decline post-mid-2013, suggesting a possible loss of engagement or change in buying behavior among this segment.\n",
    "- **Consistency in Hibernating & Potential Loyalist**: These segments are relatively consistent in their sales trends, albeit at lower volumes. Efforts could be made to re-engage or upsell to these segments to tap into their potential.\n",
    "- **Alignment of Peaks**: The peaks in sales across the segments align well, especially around early 2010, mid-2011, and mid-2013. This alignment suggests that external factors like marketing campaigns or seasonality might have influenced sales across all segments during these times.\n",
    "\n",
    "In conclusion, while the Champions segment drives the most sales, there's room to engage the other segments better, especially the At Risk segment, which has shown potential in the past. It would be beneficial to explore strategies to re-engage the At Risk and Hibernating segments while maintaining the loyalty of the Champions segment."
   ]
  },
  {
   "cell_type": "code",
   "execution_count": 58,
   "id": "ec89d6aa",
   "metadata": {},
   "outputs": [
    {
     "data": {
      "text/plain": [
       "(-0.03243792531827793,\n",
       "    Frequency  AverageValue\n",
       " 0         16     36.277500\n",
       " 1          7     92.022857\n",
       " 2          4     48.275000\n",
       " 3          4    376.147500\n",
       " 6         12    188.808333)"
      ]
     },
     "execution_count": 58,
     "metadata": {},
     "output_type": "execute_result"
    }
   ],
   "source": [
    "summary = df_analysis.groupby('Customer ID').agg({\n",
    "    'Invoice': 'nunique',  # Frequency\n",
    "    'InvoiceDate': ['min', 'max'],\n",
    "    'Price': 'sum'  # Total monetary value\n",
    "}).reset_index()\n",
    "\n",
    "summary.columns = ['Customer ID', 'Frequency', 'FirstPurchase', 'LastPurchase', 'MonetaryValue']\n",
    "\n",
    "summary['Recency'] = (summary['LastPurchase'] - summary['FirstPurchase']).dt.days\n",
    "summary['T'] = (snapshot_date - summary['FirstPurchase']).dt.days\n",
    "\n",
    "summary['Frequency'] -= 1\n",
    "\n",
    "summary = summary[summary['Frequency'] > 0]\n",
    "summary['AverageValue'] = summary['MonetaryValue'] / summary['Frequency']\n",
    "\n",
    "correlation = summary[['Frequency', 'AverageValue']].corr().iloc[0, 1]\n",
    "\n",
    "correlation, summary[['Frequency', 'AverageValue']].head()\n"
   ]
  },
  {
   "cell_type": "markdown",
   "id": "50933c2c",
   "metadata": {},
   "source": [
    "The correlation between frequency and average monetary value is approximately \n",
    "−0.0324, which is very close to zero. This suggests that there is no significant relationship between the two variables, thus fulfilling the independence assumption required for the Gamma-Gamma model."
   ]
  },
  {
   "cell_type": "code",
   "execution_count": 59,
   "id": "cbd6e7dd",
   "metadata": {},
   "outputs": [
    {
     "name": "stdout",
     "output_type": "stream",
     "text": [
      "Collecting lifetimes\n",
      "  Downloading Lifetimes-0.11.3-py3-none-any.whl (584 kB)\n",
      "     -------------------------------------- 584.2/584.2 kB 5.3 MB/s eta 0:00:00\n",
      "Requirement already satisfied: scipy>=1.0.0 in c:\\users\\dhruv\\anaconda3\\lib\\site-packages (from lifetimes) (1.11.1)\n",
      "Collecting autograd>=1.2.0\n",
      "  Downloading autograd-1.6.2-py3-none-any.whl (49 kB)\n",
      "     ---------------------------------------- 49.3/49.3 kB ? eta 0:00:00\n",
      "Requirement already satisfied: pandas>=0.24.0 in c:\\users\\dhruv\\anaconda3\\lib\\site-packages (from lifetimes) (1.5.3)\n",
      "Requirement already satisfied: numpy>=1.10.0 in c:\\users\\dhruv\\anaconda3\\lib\\site-packages (from lifetimes) (1.25.2)\n",
      "Collecting dill>=0.2.6\n",
      "  Downloading dill-0.3.7-py3-none-any.whl (115 kB)\n",
      "     -------------------------------------- 115.3/115.3 kB 7.0 MB/s eta 0:00:00\n",
      "Requirement already satisfied: future>=0.15.2 in c:\\users\\dhruv\\anaconda3\\lib\\site-packages (from autograd>=1.2.0->lifetimes) (0.18.3)\n",
      "Requirement already satisfied: pytz>=2020.1 in c:\\users\\dhruv\\anaconda3\\lib\\site-packages (from pandas>=0.24.0->lifetimes) (2022.7)\n",
      "Requirement already satisfied: python-dateutil>=2.8.1 in c:\\users\\dhruv\\anaconda3\\lib\\site-packages (from pandas>=0.24.0->lifetimes) (2.8.2)\n",
      "Requirement already satisfied: six>=1.5 in c:\\users\\dhruv\\anaconda3\\lib\\site-packages (from python-dateutil>=2.8.1->pandas>=0.24.0->lifetimes) (1.16.0)\n",
      "Installing collected packages: dill, autograd, lifetimes\n",
      "Successfully installed autograd-1.6.2 dill-0.3.7 lifetimes-0.11.3\n",
      "Note: you may need to restart the kernel to use updated packages.\n"
     ]
    }
   ],
   "source": [
    "pip install lifetimes\n"
   ]
  },
  {
   "cell_type": "code",
   "execution_count": 62,
   "id": "8bf28707",
   "metadata": {},
   "outputs": [
    {
     "name": "stdout",
     "output_type": "stream",
     "text": [
      "                frequency  monetary_value\n",
      "frequency        1.000000        0.002185\n",
      "monetary_value   0.002185        1.000000\n",
      "             frequency  recency      T  monetary_value  predicted_purchases  \\\n",
      "Customer ID                                                                   \n",
      "12346.0           10.0    400.0  634.0       57.594000             0.005742   \n",
      "12347.0            5.0    275.0  313.0       87.338000             0.014649   \n",
      "12348.0            3.0    190.0  347.0       36.196667             0.006976   \n",
      "12349.0            3.0    328.0  644.0      139.576667             0.003586   \n",
      "12352.0            5.0    130.0  301.0      388.444000             0.006330   \n",
      "\n",
      "             predicted_average_value         CLV  \n",
      "Customer ID                                       \n",
      "12346.0                    60.058165  111.203910  \n",
      "12347.0                    81.426985  373.845585  \n",
      "12348.0                    51.578991  113.724965  \n",
      "12349.0                   107.598834  125.045177  \n",
      "12352.0                   281.198687  556.687750  \n"
     ]
    }
   ],
   "source": [
    "import pandas as pd\n",
    "from lifetimes import BetaGeoFitter, GammaGammaFitter\n",
    "from lifetimes.plotting import plot_frequency_recency_matrix, plot_probability_alive_matrix, plot_period_transactions\n",
    "from lifetimes.utils import summary_data_from_transaction_data\n",
    "\n",
    "\n",
    "# Prepare the data for the CLV models\n",
    "summary = summary_data_from_transaction_data(df, 'Customer ID', 'InvoiceDate', monetary_value_col='Price')\n",
    "\n",
    "# Fit the BG/NBD model\n",
    "bgf = BetaGeoFitter(penalizer_coef=0.0)\n",
    "bgf.fit(summary['frequency'], summary['recency'], summary['T'])\n",
    "\n",
    "# Check if the Gamma-Gamma model assumptions are met\n",
    "summary = summary[summary['frequency'] > 0]\n",
    "print(summary[['frequency', 'monetary_value']].corr())\n",
    "\n",
    "# Fit the Gamma-Gamma model to the data\n",
    "ggf = GammaGammaFitter(penalizer_coef=0.0)\n",
    "ggf.fit(summary['frequency'], summary['monetary_value'])\n",
    "\n",
    "# Estimate the average transaction value\n",
    "summary['predicted_purchases'] = bgf.conditional_expected_number_of_purchases_up_to_time(1, summary['frequency'], summary['recency'], summary['T'])\n",
    "summary['predicted_average_value'] = ggf.conditional_expected_average_profit(summary['frequency'], summary['monetary_value'])\n",
    "\n",
    "# Calculate CLV using the DCF method (Discounted Cash Flow)\n",
    "discount_rate = 0.01  \n",
    "summary['CLV'] = ggf.customer_lifetime_value(bgf, summary['frequency'], summary['recency'], summary['T'], summary['monetary_value'],\n",
    "                                             time=12,  # months\n",
    "                                             discount_rate=discount_rate)\n",
    "\n",
    "\n",
    "print(summary.head())\n",
    "\n"
   ]
  },
  {
   "cell_type": "code",
   "execution_count": 61,
   "id": "e0c97760",
   "metadata": {},
   "outputs": [
    {
     "data": {
      "text/html": [
       "<div>\n",
       "<style scoped>\n",
       "    .dataframe tbody tr th:only-of-type {\n",
       "        vertical-align: middle;\n",
       "    }\n",
       "\n",
       "    .dataframe tbody tr th {\n",
       "        vertical-align: top;\n",
       "    }\n",
       "\n",
       "    .dataframe thead th {\n",
       "        text-align: right;\n",
       "    }\n",
       "</style>\n",
       "<table border=\"1\" class=\"dataframe\">\n",
       "  <thead>\n",
       "    <tr style=\"text-align: right;\">\n",
       "      <th></th>\n",
       "      <th>frequency</th>\n",
       "      <th>recency</th>\n",
       "      <th>T</th>\n",
       "      <th>monetary_value</th>\n",
       "      <th>predicted_purchases</th>\n",
       "      <th>predicted_average_value</th>\n",
       "      <th>CLV</th>\n",
       "    </tr>\n",
       "    <tr>\n",
       "      <th>Customer ID</th>\n",
       "      <th></th>\n",
       "      <th></th>\n",
       "      <th></th>\n",
       "      <th></th>\n",
       "      <th></th>\n",
       "      <th></th>\n",
       "      <th></th>\n",
       "    </tr>\n",
       "  </thead>\n",
       "  <tbody>\n",
       "    <tr>\n",
       "      <th>12346.0</th>\n",
       "      <td>10.0</td>\n",
       "      <td>400.0</td>\n",
       "      <td>634.0</td>\n",
       "      <td>57.594000</td>\n",
       "      <td>0.005742</td>\n",
       "      <td>60.058165</td>\n",
       "      <td>111.203910</td>\n",
       "    </tr>\n",
       "    <tr>\n",
       "      <th>12347.0</th>\n",
       "      <td>5.0</td>\n",
       "      <td>275.0</td>\n",
       "      <td>313.0</td>\n",
       "      <td>87.338000</td>\n",
       "      <td>0.014649</td>\n",
       "      <td>81.426985</td>\n",
       "      <td>373.845585</td>\n",
       "    </tr>\n",
       "    <tr>\n",
       "      <th>12348.0</th>\n",
       "      <td>3.0</td>\n",
       "      <td>190.0</td>\n",
       "      <td>347.0</td>\n",
       "      <td>36.196667</td>\n",
       "      <td>0.006976</td>\n",
       "      <td>51.578991</td>\n",
       "      <td>113.724965</td>\n",
       "    </tr>\n",
       "    <tr>\n",
       "      <th>12349.0</th>\n",
       "      <td>3.0</td>\n",
       "      <td>328.0</td>\n",
       "      <td>644.0</td>\n",
       "      <td>139.576667</td>\n",
       "      <td>0.003586</td>\n",
       "      <td>107.598834</td>\n",
       "      <td>125.045177</td>\n",
       "    </tr>\n",
       "    <tr>\n",
       "      <th>12352.0</th>\n",
       "      <td>5.0</td>\n",
       "      <td>130.0</td>\n",
       "      <td>301.0</td>\n",
       "      <td>388.444000</td>\n",
       "      <td>0.006330</td>\n",
       "      <td>281.198687</td>\n",
       "      <td>556.687750</td>\n",
       "    </tr>\n",
       "    <tr>\n",
       "      <th>...</th>\n",
       "      <td>...</td>\n",
       "      <td>...</td>\n",
       "      <td>...</td>\n",
       "      <td>...</td>\n",
       "      <td>...</td>\n",
       "      <td>...</td>\n",
       "      <td>...</td>\n",
       "    </tr>\n",
       "    <tr>\n",
       "      <th>18282.0</th>\n",
       "      <td>1.0</td>\n",
       "      <td>4.0</td>\n",
       "      <td>35.0</td>\n",
       "      <td>0.290000</td>\n",
       "      <td>0.016419</td>\n",
       "      <td>50.124905</td>\n",
       "      <td>231.346751</td>\n",
       "    </tr>\n",
       "    <tr>\n",
       "      <th>18283.0</th>\n",
       "      <td>13.0</td>\n",
       "      <td>563.0</td>\n",
       "      <td>567.0</td>\n",
       "      <td>89.913846</td>\n",
       "      <td>0.021794</td>\n",
       "      <td>86.626058</td>\n",
       "      <td>605.733977</td>\n",
       "    </tr>\n",
       "    <tr>\n",
       "      <th>18284.0</th>\n",
       "      <td>1.0</td>\n",
       "      <td>2.0</td>\n",
       "      <td>340.0</td>\n",
       "      <td>25.000000</td>\n",
       "      <td>0.001161</td>\n",
       "      <td>57.112528</td>\n",
       "      <td>21.089557</td>\n",
       "    </tr>\n",
       "    <tr>\n",
       "      <th>18286.0</th>\n",
       "      <td>2.0</td>\n",
       "      <td>247.0</td>\n",
       "      <td>632.0</td>\n",
       "      <td>85.425000</td>\n",
       "      <td>0.002437</td>\n",
       "      <td>76.674374</td>\n",
       "      <td>60.623541</td>\n",
       "    </tr>\n",
       "    <tr>\n",
       "      <th>18287.0</th>\n",
       "      <td>4.0</td>\n",
       "      <td>537.0</td>\n",
       "      <td>647.0</td>\n",
       "      <td>56.402500</td>\n",
       "      <td>0.006111</td>\n",
       "      <td>61.590999</td>\n",
       "      <td>121.867340</td>\n",
       "    </tr>\n",
       "  </tbody>\n",
       "</table>\n",
       "<p>3845 rows × 7 columns</p>\n",
       "</div>"
      ],
      "text/plain": [
       "             frequency  recency      T  monetary_value  predicted_purchases  \\\n",
       "Customer ID                                                                   \n",
       "12346.0           10.0    400.0  634.0       57.594000             0.005742   \n",
       "12347.0            5.0    275.0  313.0       87.338000             0.014649   \n",
       "12348.0            3.0    190.0  347.0       36.196667             0.006976   \n",
       "12349.0            3.0    328.0  644.0      139.576667             0.003586   \n",
       "12352.0            5.0    130.0  301.0      388.444000             0.006330   \n",
       "...                ...      ...    ...             ...                  ...   \n",
       "18282.0            1.0      4.0   35.0        0.290000             0.016419   \n",
       "18283.0           13.0    563.0  567.0       89.913846             0.021794   \n",
       "18284.0            1.0      2.0  340.0       25.000000             0.001161   \n",
       "18286.0            2.0    247.0  632.0       85.425000             0.002437   \n",
       "18287.0            4.0    537.0  647.0       56.402500             0.006111   \n",
       "\n",
       "             predicted_average_value         CLV  \n",
       "Customer ID                                       \n",
       "12346.0                    60.058165  111.203910  \n",
       "12347.0                    81.426985  373.845585  \n",
       "12348.0                    51.578991  113.724965  \n",
       "12349.0                   107.598834  125.045177  \n",
       "12352.0                   281.198687  556.687750  \n",
       "...                              ...         ...  \n",
       "18282.0                    50.124905  231.346751  \n",
       "18283.0                    86.626058  605.733977  \n",
       "18284.0                    57.112528   21.089557  \n",
       "18286.0                    76.674374   60.623541  \n",
       "18287.0                    61.590999  121.867340  \n",
       "\n",
       "[3845 rows x 7 columns]"
      ]
     },
     "execution_count": 61,
     "metadata": {},
     "output_type": "execute_result"
    }
   ],
   "source": [
    "summary"
   ]
  }
 ],
 "metadata": {
  "kernelspec": {
   "display_name": "Python 3 (ipykernel)",
   "language": "python",
   "name": "python3"
  },
  "language_info": {
   "codemirror_mode": {
    "name": "ipython",
    "version": 3
   },
   "file_extension": ".py",
   "mimetype": "text/x-python",
   "name": "python",
   "nbconvert_exporter": "python",
   "pygments_lexer": "ipython3",
   "version": "3.11.5"
  }
 },
 "nbformat": 4,
 "nbformat_minor": 5
}
